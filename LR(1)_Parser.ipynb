{
  "nbformat": 4,
  "nbformat_minor": 0,
  "metadata": {
    "colab": {
      "name": "LR(1) Parser.ipynb",
      "provenance": [],
      "collapsed_sections": [],
      "include_colab_link": true
    },
    "kernelspec": {
      "name": "python3",
      "display_name": "Python 3"
    },
    "language_info": {
      "name": "python"
    }
  },
  "cells": [
    {
      "cell_type": "markdown",
      "metadata": {
        "id": "view-in-github",
        "colab_type": "text"
      },
      "source": [
        "<a href=\"https://colab.research.google.com/github/Priya378/LR-1-_Parser/blob/main/LR(1)_Parser.ipynb\" target=\"_parent\"><img src=\"https://colab.research.google.com/assets/colab-badge.svg\" alt=\"Open In Colab\"/></a>"
      ]
    },
    {
      "cell_type": "markdown",
      "metadata": {
        "id": "aCCJii_0Ofsl"
      },
      "source": [
        "### **Grammar:**"
      ]
    },
    {
      "cell_type": "code",
      "metadata": {
        "id": "_JVZfckyFfDC"
      },
      "source": [
        "\"\"\"\n",
        "S->V=E|E\n",
        "E->V\n",
        "V->x|*E\n",
        "\"\"\""
      ],
      "execution_count": null,
      "outputs": []
    },
    {
      "cell_type": "markdown",
      "metadata": {
        "id": "RZAOxX5Tggqd"
      },
      "source": [
        "### **Taking Context Free Grammar as input and augmenting**"
      ]
    },
    {
      "cell_type": "code",
      "metadata": {
        "colab": {
          "base_uri": "https://localhost:8080/"
        },
        "id": "EL0w9sqkgyBD",
        "outputId": "4ed70858-70cd-4fcf-aecd-d137daa6139e"
      },
      "source": [
        "#Declaring empty lists\n",
        "productionRules=[] #Production rules   \n",
        "nonTerminals=[]# non terminals \n",
        "rhsAugmented=[]#of augmented rules \n",
        "lhsAugmented=[] #augmented rules\n",
        " \n",
        "print(\"Enter production rules, input $ to terminate: \")\n",
        "#Taking first rule as input and adding $ to terminate\n",
        "a=input()\n",
        "productionRules.append(\"G->\"+a[0]+\"$\")\n",
        "lhsAugmented.append(\"G\")\n",
        "nonTerminals.append(\"G\")\n",
        "rhsAugmented.append(a[0]+\"$\")\n",
        " \n",
        "#Take rules until \"$\" is given as an input\n",
        "while(a!=\"$\"):\n",
        "  productionRules.append(a)\n",
        "  a=input()\n",
        " \n",
        "#Generating lhs and rhs for the augmented grammar\n",
        "for a in productionRules[1:]:\n",
        "  nonTerminals.append(a.split(\"->\")[0])\n",
        "  lhsAugmented+=[a.split(\"->\")[0] for m in a.split(\"->\")[1].split(\"|\") ]\n",
        "  rhsAugmented+=a.split(\"->\")[1].split(\"|\")\n",
        " \n",
        "#Generating rules for the augmented grammar\n",
        "rules=[]\n",
        "for i in range(len(lhsAugmented)):\n",
        "  rules.append(lhsAugmented[i]+\"->\"+rhsAugmented[i])\n",
        " \n",
        "#Generating terminals of the grammar\n",
        "terminals=[]\n",
        "for x in rhsAugmented:\n",
        "  for char in x:\n",
        "    if(char not in nonTerminals and char not in terminals):\n",
        "      terminals.append(char)\n",
        " \n",
        "#Printing rules\n",
        "print(\"\\nAugmented Grammar: \")\n",
        "for i in range(len(rules)):\n",
        "  print(i,\" \",rules[i])"
      ],
      "execution_count": null,
      "outputs": [
        {
          "output_type": "stream",
          "text": [
            "Enter production rules, input $ to terminate: \n",
            "S->V=E|E\n",
            "E->V\n",
            "V->x|*E\n",
            "$\n",
            "\n",
            "Augmented Grammar: \n",
            "0   G->S$\n",
            "1   S->V=E\n",
            "2   S->E\n",
            "3   E->V\n",
            "4   V->x\n",
            "5   V->*E\n"
          ],
          "name": "stdout"
        }
      ]
    },
    {
      "cell_type": "markdown",
      "metadata": {
        "id": "JHpbGIpmilCk"
      },
      "source": [
        "### **Defining modules to find**\n",
        "*   First sets\n",
        "*   Closure\n",
        "*   Symbols in a state\n",
        "*   Go to function\n",
        "\n",
        "\n",
        "\n",
        "\n",
        "\n"
      ]
    },
    {
      "cell_type": "code",
      "metadata": {
        "id": "a8mjsoZ-i2va"
      },
      "source": [
        "def first(String):\n",
        "  if(String[0] not in nonTerminals):\n",
        "    return String[0]\n",
        "  firstSet=[]\n",
        "  for rule in rules:\n",
        "    if(rule[0]==String[0]):\n",
        "      firstInRHS=rule.split(\"->\")[1][0]\n",
        "      if(firstInRHS not in nonTerminals and firstInRHS not in firstSet):\n",
        "        firstSet.append(firstInRHS)\n",
        "      elif(firstInRHS!=String[0]):\n",
        "        tempFirstSet=first(firstInRHS)\n",
        "        firstSet+=[i for i in tempFirstSet if i not in firstSet]\n",
        "  return firstSet\n",
        " \n",
        "def closure(i,rule,lookahead):\n",
        "  lst=[[i,rule,lookahead]]\n",
        "  rhsOfRule=rule.split(\"->\")[1] \n",
        "  #Confirming dot isn't in the end of the rule\n",
        "  if(len(rhsOfRule)!=i):\n",
        "    for lstRule in lst:\n",
        "      rhs=lstRule[1].split(\"->\")[1]\n",
        "      for rule in rules:\n",
        "        if(rule[0]==rhs[lstRule[0]]):\n",
        "          lookaheads=first(rhs[i+1:]+lstRule[2])\n",
        "          for la in lookaheads:\n",
        "            temp=[0,rule,la]\n",
        "            if(temp not in lst):\n",
        "              lst.append(temp)\n",
        "  return lst\n",
        " \n",
        "def symbols(state):\n",
        "  symb=[]\n",
        "  for entry in state:\n",
        "    rhs=entry[1].split(\"->\")[1]\n",
        "    #Confirming if dot hasn't reached the end of rule\n",
        "    if(len(rhs)!=entry[0]):\n",
        "      temp=rhs[entry[0]]\n",
        "      if(temp not in symb):\n",
        "        symb.append(temp)\n",
        "  return symb\n",
        " \n",
        "def goto(state,symbol):\n",
        "  #Checking for the accept state\n",
        "  if(state[0][2]==\"?\" and symbol=='$'):\n",
        "    index=state[0][0]\n",
        "    if(state[0][1].split(\"->\")[1][index]==\"$\"):\n",
        "      return \"acc\"\n",
        " \n",
        "  newState=[]\n",
        "  for rule in state:\n",
        "    rhs=rule[1].split(\"->\")[1]\n",
        "    if(len(rhs)!=rule[0]):\n",
        "      if(rhs[rule[0]]==symbol):\n",
        "        stateForSymbol=closure(rule[0]+1,rule[1],rule[2])\n",
        "        for tempRule in stateForSymbol:\n",
        "          if(tempRule not in newState):\n",
        "            newState.append(tempRule)\n",
        "  return newState"
      ],
      "execution_count": null,
      "outputs": []
    },
    {
      "cell_type": "code",
      "metadata": {
        "colab": {
          "base_uri": "https://localhost:8080/"
        },
        "id": "N0kWiTTH8FR7",
        "outputId": "cd53947b-0505-4256-e304-6420f39169a2"
      },
      "source": [
        "firstState=closure(0,rules[0],\"?\")\n",
        "for i in firstState:\n",
        "  print(i)"
      ],
      "execution_count": null,
      "outputs": [
        {
          "output_type": "stream",
          "text": [
            "[0, 'G->S$', '?']\n",
            "[0, 'S->V=E', '$']\n",
            "[0, 'S->E', '$']\n",
            "[0, 'V->x', '=']\n",
            "[0, 'V->*E', '=']\n",
            "[0, 'E->V', '$']\n",
            "[0, 'V->x', '$']\n",
            "[0, 'V->*E', '$']\n"
          ],
          "name": "stdout"
        }
      ]
    },
    {
      "cell_type": "markdown",
      "metadata": {
        "id": "X4kTqmE3uuNf"
      },
      "source": [
        "### **Driver Code**\n",
        "\n",
        "\n",
        "*   Creating all states\n",
        "*   Making Entries in parsing table\n",
        "\n"
      ]
    },
    {
      "cell_type": "code",
      "metadata": {
        "id": "L2lsWeG3uyQ0"
      },
      "source": [
        "#-------------------------\n",
        "#Creating a dictionary with set of terminals and non terminals as keys to use in parsing table\n",
        "columns=terminals+nonTerminals\n",
        "columns.remove(\"G\")\n",
        "emptyRow=dict.fromkeys(columns)\n",
        "for i in emptyRow:\n",
        "  emptyRow[i]=\"#\"\n",
        "table=[]\n",
        " \n",
        "#Driver Code along with making entries in table\n",
        "C=[closure(0,rules[0],\"?\")]\n",
        "for state in C:\n",
        "  #Make a copy of empty row for each state in C\n",
        "  row=emptyRow.copy()\n",
        "  symbolsList=symbols(state)\n",
        "  #For all the symbols in a particular state\n",
        "  for symbol in symbolsList:\n",
        "   next=goto(state,symbol)\n",
        "   if(next==\"acc\"):\n",
        "     row[symbol]=\"acc\"\n",
        "   elif(len(next)!=0):\n",
        "    if(next not in C):\n",
        "      C.append(next)\n",
        "    if(symbol not in nonTerminals):\n",
        "        row[symbol]=\"S\"+str(C.index(next))\n",
        "    else:\n",
        "        row[symbol]=str(C.index(next))\n",
        "  table.append(row)\n",
        " \n",
        "#Filling for the reductions\n",
        "for state in C:\n",
        "  for entry in state:\n",
        "    rh=entry[1].split(\"->\")[1]\n",
        "    if(len(rh)==entry[0]):\n",
        "      table[C.index(state)][entry[2]]=\"R\"+str(rules.index(entry[1]))\n",
        "#-------------------------------------------------"
      ],
      "execution_count": null,
      "outputs": []
    },
    {
      "cell_type": "code",
      "metadata": {
        "colab": {
          "base_uri": "https://localhost:8080/"
        },
        "id": "Owm5G1q94os7",
        "outputId": "816839ae-abc4-445c-9f04-e4f63dbc0b4b"
      },
      "source": [
        "print(C)"
      ],
      "execution_count": null,
      "outputs": [
        {
          "output_type": "stream",
          "text": [
            "[[[0, 'G->S$', '?'], [0, 'S->V=E', '$'], [0, 'S->E', '$'], [0, 'V->x', '='], [0, 'V->*E', '='], [0, 'E->V', '$'], [0, 'V->x', '$'], [0, 'V->*E', '$']], [[1, 'G->S$', '?']], [[1, 'S->V=E', '$'], [1, 'E->V', '$']], [[1, 'S->E', '$']], [[1, 'V->x', '='], [1, 'V->x', '$']], [[1, 'V->*E', '='], [0, 'E->V', '='], [0, 'V->x', '='], [0, 'V->*E', '='], [1, 'V->*E', '$'], [0, 'E->V', '$'], [0, 'V->x', '$'], [0, 'V->*E', '$']], [[2, 'S->V=E', '$'], [0, 'E->V', '$'], [0, 'V->x', '$'], [0, 'V->*E', '$']], [[2, 'V->*E', '='], [2, 'V->*E', '$']], [[1, 'E->V', '='], [1, 'E->V', '$']], [[3, 'S->V=E', '$']], [[1, 'E->V', '$']], [[1, 'V->x', '$']], [[1, 'V->*E', '$'], [0, 'E->V', '$'], [0, 'V->x', '$'], [0, 'V->*E', '$']], [[2, 'V->*E', '$']]]\n"
          ],
          "name": "stdout"
        }
      ]
    },
    {
      "cell_type": "markdown",
      "metadata": {
        "id": "cM8vdqW-31cF"
      },
      "source": [
        "### **Printing States**"
      ]
    },
    {
      "cell_type": "code",
      "metadata": {
        "colab": {
          "base_uri": "https://localhost:8080/"
        },
        "id": "Rj9RFY6e1LEs",
        "outputId": "a41464f5-54fb-455a-f1c8-708504432e49"
      },
      "source": [
        "#Printing states:\n",
        "from prettytable import PrettyTable\n",
        "print(\"\\n\\nStates: \")\n",
        "print(\"LS stands for look ahead symbols\")\n",
        "for i in range(len(C)):\n",
        "  print(\"\\nI\"+str(i)+\":\")\n",
        "  State=PrettyTable([\"Rule\", \"LS\"])\n",
        "  for j in C[i]:\n",
        "    dotposition=j[0]\n",
        "    lhs=j[1].split(\"->\")[0]\n",
        "    rhs=j[1].split(\"->\")[1]\n",
        "    rhswithdot=rhs[0:dotposition]+\".\"+rhs[dotposition:]\n",
        "    rule=lhs+\"->\"+rhswithdot\n",
        "    State.add_row([rule,j[2]])\n",
        "  print(State)"
      ],
      "execution_count": null,
      "outputs": [
        {
          "output_type": "stream",
          "text": [
            "\n",
            "\n",
            "States: \n",
            "LS stands for look ahead symbols\n",
            "\n",
            "I0:\n",
            "+---------+----+\n",
            "|   Rule  | LS |\n",
            "+---------+----+\n",
            "|  G->.S$ | ?  |\n",
            "| S->.V=E | $  |\n",
            "|  S->.E  | $  |\n",
            "|  V->.x  | =  |\n",
            "|  V->.*E | =  |\n",
            "|  E->.V  | $  |\n",
            "|  V->.x  | $  |\n",
            "|  V->.*E | $  |\n",
            "+---------+----+\n",
            "\n",
            "I1:\n",
            "+--------+----+\n",
            "|  Rule  | LS |\n",
            "+--------+----+\n",
            "| G->S.$ | ?  |\n",
            "+--------+----+\n",
            "\n",
            "I2:\n",
            "+---------+----+\n",
            "|   Rule  | LS |\n",
            "+---------+----+\n",
            "| S->V.=E | $  |\n",
            "|  E->V.  | $  |\n",
            "+---------+----+\n",
            "\n",
            "I3:\n",
            "+-------+----+\n",
            "|  Rule | LS |\n",
            "+-------+----+\n",
            "| S->E. | $  |\n",
            "+-------+----+\n",
            "\n",
            "I4:\n",
            "+-------+----+\n",
            "|  Rule | LS |\n",
            "+-------+----+\n",
            "| V->x. | =  |\n",
            "| V->x. | $  |\n",
            "+-------+----+\n",
            "\n",
            "I5:\n",
            "+--------+----+\n",
            "|  Rule  | LS |\n",
            "+--------+----+\n",
            "| V->*.E | =  |\n",
            "| E->.V  | =  |\n",
            "| V->.x  | =  |\n",
            "| V->.*E | =  |\n",
            "| V->*.E | $  |\n",
            "| E->.V  | $  |\n",
            "| V->.x  | $  |\n",
            "| V->.*E | $  |\n",
            "+--------+----+\n",
            "\n",
            "I6:\n",
            "+---------+----+\n",
            "|   Rule  | LS |\n",
            "+---------+----+\n",
            "| S->V=.E | $  |\n",
            "|  E->.V  | $  |\n",
            "|  V->.x  | $  |\n",
            "|  V->.*E | $  |\n",
            "+---------+----+\n",
            "\n",
            "I7:\n",
            "+--------+----+\n",
            "|  Rule  | LS |\n",
            "+--------+----+\n",
            "| V->*E. | =  |\n",
            "| V->*E. | $  |\n",
            "+--------+----+\n",
            "\n",
            "I8:\n",
            "+-------+----+\n",
            "|  Rule | LS |\n",
            "+-------+----+\n",
            "| E->V. | =  |\n",
            "| E->V. | $  |\n",
            "+-------+----+\n",
            "\n",
            "I9:\n",
            "+---------+----+\n",
            "|   Rule  | LS |\n",
            "+---------+----+\n",
            "| S->V=E. | $  |\n",
            "+---------+----+\n",
            "\n",
            "I10:\n",
            "+-------+----+\n",
            "|  Rule | LS |\n",
            "+-------+----+\n",
            "| E->V. | $  |\n",
            "+-------+----+\n",
            "\n",
            "I11:\n",
            "+-------+----+\n",
            "|  Rule | LS |\n",
            "+-------+----+\n",
            "| V->x. | $  |\n",
            "+-------+----+\n",
            "\n",
            "I12:\n",
            "+--------+----+\n",
            "|  Rule  | LS |\n",
            "+--------+----+\n",
            "| V->*.E | $  |\n",
            "| E->.V  | $  |\n",
            "| V->.x  | $  |\n",
            "| V->.*E | $  |\n",
            "+--------+----+\n",
            "\n",
            "I13:\n",
            "+--------+----+\n",
            "|  Rule  | LS |\n",
            "+--------+----+\n",
            "| V->*E. | $  |\n",
            "+--------+----+\n"
          ],
          "name": "stdout"
        }
      ]
    },
    {
      "cell_type": "markdown",
      "metadata": {
        "id": "tFxucQqM5Jex"
      },
      "source": [
        "### **Printing Parsing Table**"
      ]
    },
    {
      "cell_type": "code",
      "metadata": {
        "colab": {
          "base_uri": "https://localhost:8080/"
        },
        "id": "6F2b9Qy45NWP",
        "outputId": "c209ca6c-d851-476e-a54d-50e59ccfb090"
      },
      "source": [
        "#Printing parsing table\n",
        "print(\"Parsing Table:\\n\")\n",
        "print(\"\\t\",\"\\t\".join(columns))\n",
        "for i in range(len(table)):\n",
        "  print(i, end=\"\\t\")\n",
        "  for j in table[i]:\n",
        "      print(table[i][j],end=\"\\t\")\n",
        "  print()"
      ],
      "execution_count": null,
      "outputs": [
        {
          "output_type": "stream",
          "text": [
            "Parsing Table:\n",
            "\n",
            "\t $\t=\tx\t*\tS\tE\tV\n",
            "0\t#\t#\tS4\tS5\t1\t3\t2\t\n",
            "1\tacc\t#\t#\t#\t#\t#\t#\t\n",
            "2\tR3\tS6\t#\t#\t#\t#\t#\t\n",
            "3\tR2\t#\t#\t#\t#\t#\t#\t\n",
            "4\tR4\tR4\t#\t#\t#\t#\t#\t\n",
            "5\t#\t#\tS4\tS5\t#\t7\t8\t\n",
            "6\t#\t#\tS11\tS12\t#\t9\t10\t\n",
            "7\tR5\tR5\t#\t#\t#\t#\t#\t\n",
            "8\tR3\tR3\t#\t#\t#\t#\t#\t\n",
            "9\tR1\t#\t#\t#\t#\t#\t#\t\n",
            "10\tR3\t#\t#\t#\t#\t#\t#\t\n",
            "11\tR4\t#\t#\t#\t#\t#\t#\t\n",
            "12\t#\t#\tS11\tS12\t#\t13\t10\t\n",
            "13\tR5\t#\t#\t#\t#\t#\t#\t\n"
          ],
          "name": "stdout"
        }
      ]
    },
    {
      "cell_type": "markdown",
      "metadata": {
        "id": "CVZHc3sdWA4n"
      },
      "source": [
        "**Parsing String**"
      ]
    },
    {
      "cell_type": "code",
      "metadata": {
        "colab": {
          "base_uri": "https://localhost:8080/"
        },
        "id": "rnlk5sTkPQsx",
        "outputId": "40f1f8e3-10fe-4131-80d7-996c41b7225c"
      },
      "source": [
        "from prettytable import PrettyTable\n",
        "inp=input(\"Input the string to be parsed: \")\n",
        "string=inp\n",
        "stk=list(\"$0\")\n",
        "inp=list(inp+\"$\")\n",
        "k=\"\"\n",
        "check=0\n",
        "ParseTable=PrettyTable([\"Stack\", \"Input\", \"Action\"])\n",
        "while(k!=\"#\" and k!=\"acc\"):\n",
        "  j=int(stk[-1])\n",
        "  if(inp[0] not in table[j]):\n",
        "    check=1\n",
        "    break\n",
        "  k=table[j][inp[0]]\n",
        "  el1=\"\".join(stk)\n",
        "  el2=\"\".join(inp)\n",
        "  if(k==\"acc\"):\n",
        "    el3=\"Accept\"\n",
        "    flag=1\n",
        "  elif(k==\"#\"):\n",
        "    el3=\"Error\"\n",
        "    flag=0\n",
        "  else:\n",
        "    el3=k\n",
        "  ParseTable.add_row([el1,el2,el3])\n",
        "  if(k[0]==\"S\"):\n",
        "    s=[inp.pop(0),k[1]]\n",
        "    stk+=s\n",
        "  elif(k[0]==\"R\"):\n",
        "    num=2*len(rhsAugmented[int(k[1])])\n",
        "    stk=stk[:-num]\n",
        "    last=stk[-1]\n",
        "    ntt=lhsAugmented[int(k[1])]\n",
        "    stk.append(ntt)\n",
        "    stk.append(table[int(last)][ntt])\n",
        "print(ParseTable)\n",
        "if(flag==0 or check==1):\n",
        "  print(\"String \",string,\"is not accepted\")\n",
        "else:\n",
        "  print(\"String \",string,\"is accepted\")"
      ],
      "execution_count": null,
      "outputs": [
        {
          "output_type": "stream",
          "text": [
            "Input the string to be parsed: **x=x\n",
            "+----------+--------+--------+\n",
            "|  Stack   | Input  | Action |\n",
            "+----------+--------+--------+\n",
            "|    $0    | **x=x$ |   S5   |\n",
            "|   $0*5   | *x=x$  |   S5   |\n",
            "|  $0*5*5  |  x=x$  |   S4   |\n",
            "| $0*5*5x4 |  =x$   |   R4   |\n",
            "| $0*5*5V8 |  =x$   |   R3   |\n",
            "| $0*5*5E7 |  =x$   |   R5   |\n",
            "|  $0*5V8  |  =x$   |   R3   |\n",
            "|  $0*5E7  |  =x$   |   R5   |\n",
            "|   $0V2   |  =x$   |   S6   |\n",
            "|  $0V2=6  |   x$   |  S11   |\n",
            "| $0V2=6x1 |   $    | Accept |\n",
            "+----------+--------+--------+\n",
            "String  **x=x is accepted\n"
          ],
          "name": "stdout"
        }
      ]
    },
    {
      "cell_type": "markdown",
      "metadata": {
        "id": "3KKc2hc2WKeF"
      },
      "source": [
        "### **Complete Code to generate parsing table and states in state diagram**"
      ]
    },
    {
      "cell_type": "code",
      "metadata": {
        "colab": {
          "base_uri": "https://localhost:8080/"
        },
        "id": "NngIKrQ47MKy",
        "outputId": "bbc0a3af-588f-4ae8-9436-bcec4e1b4629"
      },
      "source": [
        "#Declaring empty lists\n",
        "productionRules=[] #Production rules   \n",
        "nonTerminals=[]# non terminals      \n",
        "rhsAugmented=[]#rhs of augmented rules \n",
        "lhsAugmented=[] #lhs of augmented rules \n",
        " \n",
        "print(\"Enter production rules, input $ to terminate: \")\n",
        " \n",
        "#Taking first rule as input and adding $ to terminate\n",
        "a=input()\n",
        "productionRules.append(\"G->\"+a[0]+\"$\")\n",
        "lhsAugmented.append(\"G\")\n",
        "nonTerminals.append(\"G\")\n",
        "rhsAugmented.append(a[0]+\"$\")\n",
        "#Take rules until \"$\" is given as an input\n",
        "while(a!=\"$\"):\n",
        "  productionRules.append(a)\n",
        "  a=input()\n",
        " \n",
        "#Generating lhs and rhs for the augmented grammar\n",
        "for a in productionRules[1:]:\n",
        "  nonTerminals.append(a.split(\"->\")[0])\n",
        "  lhsAugmented+=[a.split(\"->\")[0] for m in a.split(\"->\")[1].split(\"|\") ]\n",
        "  rhsAugmented+=a.split(\"->\")[1].split(\"|\")\n",
        " \n",
        "#Generating rules for the augmented grammar\n",
        "rules=[]\n",
        "for i in range(len(lhsAugmented)):\n",
        "  rules.append(lhsAugmented[i]+\"->\"+rhsAugmented[i])\n",
        " \n",
        "#Generating terminals of the grammar\n",
        "terminals=[]\n",
        "for x in rhsAugmented:\n",
        "  for char in x:\n",
        "    if(char not in nonTerminals and char not in terminals):\n",
        "      terminals.append(char)\n",
        " \n",
        "#Printing rules\n",
        "print(\"\\nAugmented Grammar: \")\n",
        "for i in range(len(rules)):\n",
        "  print(i,\" \",rules[i])\n",
        " \n",
        "#Functions---------------------------------------------\n",
        "def first(String):\n",
        "  if(String[0] not in nonTerminals):\n",
        "    return String[0]\n",
        "  firstSet=[]\n",
        "  for rule in rules:\n",
        "    if(rule[0]==String[0]):\n",
        "      firstInRHS=rule.split(\"->\")[1][0]\n",
        "      if(firstInRHS not in nonTerminals and firstInRHS not in firstSet):\n",
        "        firstSet.append(firstInRHS)\n",
        "      elif(firstInRHS!=String[0]):\n",
        "        tempFirstSet=first(firstInRHS)\n",
        "        firstSet+=[i for i in tempFirstSet if i not in firstSet]\n",
        "  return firstSet\n",
        " \n",
        " \n",
        "def closure(i,rule,lookahead):\n",
        "  lst=[[i,rule,lookahead]]\n",
        "  rhsOfRule=rule.split(\"->\")[1] #t\n",
        " \n",
        "  #Confirming dot isn't in the end of the rule\n",
        "  if(len(rhsOfRule)!=i):\n",
        "    for lstRule in lst:\n",
        "      rhs=lstRule[1].split(\"->\")[1]\n",
        "      for rule in rules:\n",
        "        if(rule[0]==rhs[lstRule[0]]):\n",
        "          lookaheads=first(rhs[i+1:]+lstRule[2])\n",
        "          for la in lookaheads:\n",
        "            temp=[0,rule,la]\n",
        "            if(temp not in lst):\n",
        "              lst.append(temp)\n",
        "  return lst\n",
        " \n",
        " \n",
        "def symbols(state):\n",
        "  symb=[]\n",
        "  for entry in state:\n",
        "    rhs=entry[1].split(\"->\")[1]\n",
        "    #Confirming if dot hasn't reached the end of rule\n",
        "    if(len(rhs)!=entry[0]):\n",
        "      temp=rhs[entry[0]]\n",
        "      if(temp not in symb):\n",
        "        symb.append(temp)\n",
        "  return symb\n",
        " \n",
        "def goto(state,symbol):\n",
        " \n",
        "  #Checking for the accept state\n",
        "  if(state[0][2]==\"?\" and symbol=='$'):\n",
        "    index=state[0][0]\n",
        "    if(state[0][1].split(\"->\")[1][index]==\"$\"):\n",
        "      return \"acc\"\n",
        " \n",
        "  newState=[]\n",
        "  for rule in state:\n",
        "    rhs=rule[1].split(\"->\")[1]\n",
        "    if(len(rhs)!=rule[0]):\n",
        "      if(rhs[rule[0]]==symbol):\n",
        "        stateForSymbol=closure(rule[0]+1,rule[1],rule[2])\n",
        "        for tempRule in stateForSymbol:\n",
        "          if(tempRule not in newState):\n",
        "            newState.append(tempRule)\n",
        "        #newState+=stateForSymbol\n",
        "  return newState \n",
        " \n",
        "#-----------------------------------------------\n",
        "#-----------------------------------------------\n",
        "#Creating a dictionary with set of terminals and non terminals as keys to use in parsing table\n",
        "columns=terminals+nonTerminals\n",
        "columns.remove(\"G\")\n",
        "emptyRow=dict.fromkeys(columns)\n",
        "for i in emptyRow:\n",
        "  emptyRow[i]=\"#\"\n",
        "table=[]\n",
        " \n",
        "#Driver Code along with making entries in table\n",
        "C=[closure(0,rules[0],\"?\")]\n",
        "for state in C:\n",
        "  #Make a copy of empty row for each state in C\n",
        "  row=emptyRow.copy()\n",
        "  symbolsList=symbols(state)\n",
        "  #For all the symbols in a particular state\n",
        " \n",
        "  for symbol in symbolsList:\n",
        "   next=goto(state,symbol)\n",
        "   if(next==\"acc\"):\n",
        "     row[symbol]=\"acc\"\n",
        "   elif(len(next)!=0):\n",
        "    if(next not in C):\n",
        "      C.append(next)\n",
        "    if(symbol not in nonTerminals):\n",
        "        row[symbol]=\"S\"+str(C.index(next))\n",
        "    else:\n",
        "        row[symbol]=str(C.index(next))\n",
        "  table.append(row)\n",
        "#---------------------------------------\n",
        "#-----------------------------------------\n",
        "#Filling for the reductions\n",
        "for state in C:\n",
        "  for entry in state:\n",
        "    rh=entry[1].split(\"->\")[1]\n",
        "    if(len(rh)==entry[0]):\n",
        "      table[C.index(state)][entry[2]]=\"R\"+str(rules.index(entry[1]))\n",
        "#-------------------------------------------------\n",
        " \n",
        "#Printing parsing table\n",
        "print(\"\\nParsing Table:\")\n",
        "print(\"\\t\",\"\\t\".join(columns))\n",
        "for i in range(len(table)):\n",
        "  print(i, end=\"\\t\")\n",
        "  for j in table[i]:\n",
        "    print(table[i][j],end=\"\\t\")\n",
        "  print()\n",
        " \n",
        "#Printing states:\n",
        "from prettytable import PrettyTable\n",
        "print(\"\\n\\nStates: \")\n",
        "print(\"LS stands for look ahead symbols\")\n",
        "for i in range(len(C)):\n",
        "  print(\"\\nI\"+str(i)+\":\")\n",
        "  State=PrettyTable([\"Rule\", \"LS\"])\n",
        "  for j in C[i]:\n",
        "    dotposition=j[0]\n",
        "    lhs=j[1].split(\"->\")[0]\n",
        "    rhs=j[1].split(\"->\")[1]\n",
        "    rhswithdot=rhs[0:dotposition]+\".\"+rhs[dotposition:]\n",
        "    rule=lhs+\"->\"+rhswithdot\n",
        "    State.add_row([rule,j[2]])\n",
        "  print(State)"
      ],
      "execution_count": null,
      "outputs": [
        {
          "output_type": "stream",
          "text": [
            "Enter production rules, input $ to terminate: \n",
            "S->CC\n",
            "C->eC|d\n",
            "$\n",
            "\n",
            "Augmented Grammar: \n",
            "0   G->S$\n",
            "1   S->CC\n",
            "2   C->eC\n",
            "3   C->d\n",
            "\n",
            "Parsing Table:\n",
            "\t $\te\td\tS\tC\n",
            "0\t#\tS3\tS4\t1\t2\t\n",
            "1\tacc\t#\t#\t#\t#\t\n",
            "2\t#\tS6\tS7\t#\t5\t\n",
            "3\t#\tS3\tS4\t#\t8\t\n",
            "4\t#\tR3\tR3\t#\t#\t\n",
            "5\tR1\t#\t#\t#\t#\t\n",
            "6\t#\tS6\tS7\t#\t9\t\n",
            "7\tR3\t#\t#\t#\t#\t\n",
            "8\t#\tR2\tR2\t#\t#\t\n",
            "9\tR2\t#\t#\t#\t#\t\n",
            "\n",
            "\n",
            "States: \n",
            "LS stands for look ahead symbols\n",
            "\n",
            "I0:\n",
            "+--------+----+\n",
            "|  Rule  | LS |\n",
            "+--------+----+\n",
            "| G->.S$ | ?  |\n",
            "| S->.CC | $  |\n",
            "| C->.eC | e  |\n",
            "| C->.eC | d  |\n",
            "| C->.d  | e  |\n",
            "| C->.d  | d  |\n",
            "+--------+----+\n",
            "\n",
            "I1:\n",
            "+--------+----+\n",
            "|  Rule  | LS |\n",
            "+--------+----+\n",
            "| G->S.$ | ?  |\n",
            "+--------+----+\n",
            "\n",
            "I2:\n",
            "+--------+----+\n",
            "|  Rule  | LS |\n",
            "+--------+----+\n",
            "| S->C.C | $  |\n",
            "| C->.eC | $  |\n",
            "| C->.d  | $  |\n",
            "+--------+----+\n",
            "\n",
            "I3:\n",
            "+--------+----+\n",
            "|  Rule  | LS |\n",
            "+--------+----+\n",
            "| C->e.C | e  |\n",
            "| C->.eC | e  |\n",
            "| C->.d  | e  |\n",
            "| C->e.C | d  |\n",
            "| C->.eC | d  |\n",
            "| C->.d  | d  |\n",
            "+--------+----+\n",
            "\n",
            "I4:\n",
            "+-------+----+\n",
            "|  Rule | LS |\n",
            "+-------+----+\n",
            "| C->d. | e  |\n",
            "| C->d. | d  |\n",
            "+-------+----+\n",
            "\n",
            "I5:\n",
            "+--------+----+\n",
            "|  Rule  | LS |\n",
            "+--------+----+\n",
            "| S->CC. | $  |\n",
            "+--------+----+\n",
            "\n",
            "I6:\n",
            "+--------+----+\n",
            "|  Rule  | LS |\n",
            "+--------+----+\n",
            "| C->e.C | $  |\n",
            "| C->.eC | $  |\n",
            "| C->.d  | $  |\n",
            "+--------+----+\n",
            "\n",
            "I7:\n",
            "+-------+----+\n",
            "|  Rule | LS |\n",
            "+-------+----+\n",
            "| C->d. | $  |\n",
            "+-------+----+\n",
            "\n",
            "I8:\n",
            "+--------+----+\n",
            "|  Rule  | LS |\n",
            "+--------+----+\n",
            "| C->eC. | e  |\n",
            "| C->eC. | d  |\n",
            "+--------+----+\n",
            "\n",
            "I9:\n",
            "+--------+----+\n",
            "|  Rule  | LS |\n",
            "+--------+----+\n",
            "| C->eC. | $  |\n",
            "+--------+----+\n"
          ],
          "name": "stdout"
        }
      ]
    },
    {
      "cell_type": "markdown",
      "metadata": {
        "id": "Rc9yQauSW0em"
      },
      "source": [
        "### **Parsing string**"
      ]
    },
    {
      "cell_type": "code",
      "metadata": {
        "colab": {
          "base_uri": "https://localhost:8080/"
        },
        "id": "JoZI0I-XAwA1",
        "outputId": "e93ac5e2-897d-4178-ee61-6358452d4147"
      },
      "source": [
        "from prettytable import PrettyTable\n",
        "inp=input(\"Input the string to be parsed: \")\n",
        "string=inp\n",
        "stk=list(\"$0\")\n",
        "inp=list(inp+\"$\")\n",
        "k=\"\"\n",
        "check=0\n",
        "ParseTable=PrettyTable([\"Stack\", \"Input\", \"Action\"])\n",
        "while(k!=\"#\" and k!=\"acc\"):\n",
        "  j=int(stk[-1])\n",
        "  if(inp[0] not in table[j]):\n",
        "    check=1\n",
        "    break\n",
        "  k=table[j][inp[0]]\n",
        "  el1=\"\".join(stk)\n",
        "  el2=\"\".join(inp)\n",
        "  if(k==\"acc\"):\n",
        "    el3=\"Accept\"\n",
        "    flag=1\n",
        "  elif(k==\"#\"):\n",
        "    el3=\"Error\"\n",
        "    flag=0\n",
        "  else:\n",
        "    el3=k\n",
        "  ParseTable.add_row([el1,el2,el3])\n",
        "  if(k[0]==\"S\"):\n",
        "    s=[inp.pop(0),k[1:]]\n",
        "    stk+=s\n",
        "  elif(k[0]==\"R\"):\n",
        "    num=2*len(rhsAugmented[int(k[1])])\n",
        "    stk=stk[:-num]\n",
        "    last=stk[-1]\n",
        "    ntt=lhsAugmented[int(k[1])]\n",
        "    stk.append(ntt)\n",
        "    stk.append(table[int(last)][ntt])\n",
        "print(ParseTable)\n",
        "if(flag==0 or check==1):\n",
        "  print(\"String\",string,\"is rejected\")\n",
        "else:\n",
        "  print(\"String\",string,\"is accepted\")"
      ],
      "execution_count": null,
      "outputs": [
        {
          "output_type": "stream",
          "text": [
            "Input the string to be parsed: ede\n",
            "+--------+-------+--------+\n",
            "| Stack  | Input | Action |\n",
            "+--------+-------+--------+\n",
            "|   $0   |  ede$ |   S3   |\n",
            "|  $0e3  |  de$  |   S4   |\n",
            "| $0e3d4 |   e$  |   R3   |\n",
            "| $0e3C8 |   e$  |   R2   |\n",
            "|  $0C2  |   e$  |   S6   |\n",
            "| $0C2e6 |   $   | Error  |\n",
            "+--------+-------+--------+\n",
            "String ede is rejected\n"
          ],
          "name": "stdout"
        }
      ]
    },
    {
      "cell_type": "markdown",
      "metadata": {
        "id": "yWdQzGXMa6S_"
      },
      "source": [
        "### **More Grammars for testing:**\n"
      ]
    },
    {
      "cell_type": "code",
      "metadata": {
        "id": "lSkYPPZzbjj5"
      },
      "source": [
        "\"\"\"\n",
        "S->aAd|bBd|aBe|bAe\n",
        "A->c\n",
        "B->c\n",
        "\n",
        "S->CC\n",
        "C->eC\n",
        "C->d\n",
        "\n",
        "E->T+E|T\n",
        "T->x\n",
        "\n",
        "A->(A)|a\n",
        "\n",
        "Left Recursion:\n",
        "A->ABd|a\n",
        "B->Be|b\n",
        "\n",
        "Left Factoring:\n",
        "S->aA|aB\n",
        "A->a \n",
        "B->b\n",
        "\"\"\""
      ],
      "execution_count": null,
      "outputs": []
    },
    {
      "cell_type": "code",
      "metadata": {
        "id": "iqnfUGNX82cD"
      },
      "source": [
        "'''\n",
        "Ambiguous Grammars we tested on:\n",
        "S->iEtS|iEtSeS|a\n",
        "E->b\n",
        "\n",
        "E->E+E|E*E|(E)|i\n",
        "'''"
      ],
      "execution_count": null,
      "outputs": []
    }
  ]
}